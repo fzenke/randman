{
 "cells": [
  {
   "cell_type": "code",
   "execution_count": 1,
   "metadata": {},
   "outputs": [],
   "source": [
    "%matplotlib inline\n",
    "import matplotlib.pyplot as plt\n",
    "import seaborn as sns\n",
    "import numpy as np\n",
    "import os, sys\n",
    "import time\n",
    "import torch"
   ]
  },
  {
   "cell_type": "code",
   "execution_count": 3,
   "metadata": {},
   "outputs": [],
   "source": [
    "sys.path.append(\"../\")\n",
    "from randman.numpy_randman import NumpyRandman\n",
    "from randman.torch_randman import TorchRandman\n",
    "from randman.jax_randman import JaxRandman\n",
    "os.environ[\"XLA_PYTHON_CLIENT_PREALLOCATE\"] = \"false\"  # Prevent jax from booking 90% of the GPU memory"
   ]
  },
  {
   "cell_type": "code",
   "execution_count": 4,
   "metadata": {
    "scrolled": false
   },
   "outputs": [
    {
     "name": "stdout",
     "output_type": "stream",
     "text": [
      "100\n",
      "NumPy: 1.811322s\n",
      "Torch: 10.726286s\n",
      "GPU: 17.428336s\n",
      "Jax: 0.940394s\n",
      "1000\n",
      "NumPy: 2.720139s\n",
      "Torch: 11.020714s\n",
      "GPU: 17.891399s\n",
      "Jax: 0.499519s\n",
      "10000\n",
      "NumPy: 10.987607s\n",
      "Torch: 15.895616s\n",
      "GPU: 17.819264s\n",
      "Jax: 0.518774s\n",
      "100000\n",
      "NumPy: 163.733948s\n",
      "Torch: 88.686370s\n",
      "GPU: 17.857949s\n",
      "Jax: 1.470295s\n",
      "1000000\n",
      "NumPy: 2732.631459s\n",
      "Torch: 296.227679s\n",
      "GPU: 87.928102s\n",
      "Jax: 30.020437s\n"
     ]
    }
   ],
   "source": [
    "res = []\n",
    "for nb_samp in [1e2, 1e3, 1e4, 1e5, 1e6]:\n",
    "    nb_samp = int(nb_samp)\n",
    "    print(nb_samp)\n",
    "    \n",
    "    rm = NumpyRandman(1000,10)\n",
    "    t0 = time.time()\n",
    "    x,y = rm.get_random_manifold_samples(nb_samp)\n",
    "    r_numpy = time.time()-t0\n",
    "    print(\"NumPy: %fs\"%(r_numpy))\n",
    "    \n",
    "    rm = TorchRandman(1000,10)\n",
    "    t0 = time.time()\n",
    "    x,y = rm.get_random_manifold_samples(nb_samp)\n",
    "    r_torch = time.time()-t0\n",
    "    print(\"Torch: %fs\"%(r_torch))\n",
    "\n",
    "    device=torch.device(\"cuda:0\")\n",
    "    rm = TorchRandman(1000,10,device=device)\n",
    "    t0 = time.time()\n",
    "    x,y = rm.get_random_manifold_samples(nb_samp)\n",
    "    r_gpu = time.time()-t0\n",
    "    print(\"GPU: %fs\"%(r_gpu))\n",
    "    \n",
    "    rm = JaxRandman(1000,10)\n",
    "    t0 = time.time()\n",
    "    x,y = rm.get_random_manifold_samples(nb_samp)\n",
    "    r_jax = time.time()-t0\n",
    "    print(\"Jax: %fs\"%(r_jax))\n",
    "    \n",
    "    res.append((nb_samp, r_numpy, r_torch, r_gpu, r_jax))"
   ]
  },
  {
   "cell_type": "code",
   "execution_count": 5,
   "metadata": {},
   "outputs": [
    {
     "data": {
      "image/png": "[encoded data removed]",
      "text/plain": [
       "<Figure size 432x288 with 1 Axes>"
      ]
     },
     "metadata": {
      "needs_background": "light"
     },
     "output_type": "display_data"
    }
   ],
   "source": [
    "dat=np.array(res)\n",
    "plt.plot(dat[:,0],dat[:,1:])\n",
    "plt.legend(labels=[\"Numpy\", \"Torch CPU\", \"Torch GPU\", \"Jax GPU\"])\n",
    "plt.xlabel(\"Num. datapoints\")\n",
    "plt.ylabel(\"Wall clock time (s)\")\n",
    "plt.loglog()\n",
    "sns.despine()"
   ]
  },
  {
   "cell_type": "code",
   "execution_count": null,
   "metadata": {},
   "outputs": [],
   "source": []
  },
  {
   "cell_type": "code",
   "execution_count": null,
   "metadata": {},
   "outputs": [],
   "source": []
  },
  {
   "cell_type": "code",
   "execution_count": null,
   "metadata": {},
   "outputs": [],
   "source": []
  },
  {
   "cell_type": "code",
   "execution_count": null,
   "metadata": {},
   "outputs": [],
   "source": []
  }
 ],
 "metadata": {
  "kernelspec": {
   "display_name": "Python 3 (ipykernel)",
   "language": "python",
   "name": "python3"
  },
  "language_info": {
   "codemirror_mode": {
    "name": "ipython",
    "version": 3
   },
   "file_extension": ".py",
   "mimetype": "text/x-python",
   "name": "python",
   "nbconvert_exporter": "python",
   "pygments_lexer": "ipython3",
   "version": "3.8.10"
  }
 },
 "nbformat": 4,
 "nbformat_minor": 2
}
